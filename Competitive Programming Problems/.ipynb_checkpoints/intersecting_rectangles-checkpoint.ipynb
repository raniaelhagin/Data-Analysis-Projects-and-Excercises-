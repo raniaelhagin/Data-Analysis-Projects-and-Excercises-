{
 "cells": [
  {
   "cell_type": "markdown",
   "id": "a06311ce",
   "metadata": {},
   "source": [
    "<center>\n",
    "    <H1>\n",
    "        Rectangles Intersection\n",
    "    </H1>\n",
    "</center>\n",
    "\n",
    "<hr style=\"height:2px\">\n",
    "\n",
    "<center>\n",
    "    <H3>\n",
    "        Problem\n",
    "    </H3>\n",
    "</center>\n",
    "\n",
    "You're given two rectangles. Each rectangle is represented as the coordinates of two opposing vertices, `[[x1,y1],[x2,y2]]`. Each rectangle has two of its sides parallel to the X-axis and has the other two sides parallel to the Y-axis.\n",
    "\n",
    "<BR>\n",
    "<p style=\"font-weight: bold; text-align: center\">\n",
    "Write a function that returns <u><code>True</code></u> if the two rectangles intersect. Otherwise, return <u><code>False</code></u>.\n",
    "</p>\n",
    "<BR>\n",
    "\n",
    "For two rectangles to be intersecting, there has to be a surface area common between them that is greater than zero. On a related note, two rectangles are NOT considered intersecting if they are merely adjacent and touching side-to-side (because the common surface area between them is zero).\n",
    "\n",
    "<hr style=\"height:2px\">\n",
    "\n",
    "<center>\n",
    "    <H3>\n",
    "        Sample Inputs & Outputs\n",
    "    </H3>\n",
    "</center>\n",
    "\n",
    "Sample input(s) and output(s) are given below. Note that the examples below are not exhaustive and that we will try your solution on other examples that are held back for verification later. Do try to account for as many cases as you can. Good Luck!\n",
    "\n",
    "#### Example 1\n",
    "```\n",
    "Input: rect1 = [[1,2],[3,4]], rect2 = [[2,1],[5,3]]\n",
    "Output: True\n",
    "Explanation: The two rectangles partially intersect\n",
    "```\n",
    "\n",
    "#### Example 2\n",
    "```\n",
    "Input: rect1 = [[3,2],[8,9]], rect2 = [[4,4],[6,7]]\n",
    "Output: True\n",
    "Explanation: One of the two rectangles is entirely inside the other\n",
    "```\n",
    "\n",
    "#### Example 3\n",
    "```\n",
    "Input: rect1 = [[1,2],[3,4]], rect2 = [[11,1],[9,5]]\n",
    "Output: False\n",
    "Explanation: The two rectangles do not intersect\n",
    "```\n",
    "\n",
    "#### Constraints:\n",
    "- `x1`, `y1`, `x2` and `y2` are all integers\n",
    "- Input rectangles are parallel to the X- and Y- axes\n",
    "\n",
    "<hr style=\"height:2px\">"
   ]
  },
  {
   "cell_type": "code",
   "execution_count": null,
   "id": "249f2ca7",
   "metadata": {},
   "outputs": [],
   "source": []
  },
  {
   "cell_type": "markdown",
   "id": "23c2b7d1",
   "metadata": {},
   "source": [
    "Please fill in the function below, then try your solution on the examples given at the bottom of this notebook.\n",
    "\n",
    "**Do NOT import or use any external libraries. AVOID `import` statements in your solution (e.g. `import numpy as np`).\n",
    "Use only base Python functions and pre-loaded libraries.**\n",
    "\n",
    "*You are free to add your own helper functions to be called by the function below.*\n",
    "\n",
    "Examples of functions/methods that you may use:\n",
    "   - min()\n",
    "   - max()\n",
    "   - len()\n",
    "   - type()\n",
    "   - range()\n",
    "   - reversed()\n",
    "   - list.sort()\n",
    "   - list.append()\n",
    "   - list.extend()\n",
    "   - list.pop()\n",
    "   - list.remove()"
   ]
  },
  {
   "cell_type": "code",
   "execution_count": 1,
   "id": "17411d30",
   "metadata": {},
   "outputs": [],
   "source": [
    "def get_bottom_left_top_right_points (rect):\n",
    "    \n",
    "    x1 = rect[0][0]\n",
    "    y1 = rect[0][1]\n",
    "\n",
    "    x2 = rect[1][0]\n",
    "    y2 = rect[1][1]\n",
    "\n",
    "    bottom_left_x = min(x1, x2)\n",
    "    bottom_left_y = min(y1, y2)\n",
    "    \n",
    "    top_right_x   = max(x1, x2)\n",
    "    top_right_y   = max(y1, y2)\n",
    "\n",
    "    return [[bottom_left_x, bottom_left_y], [top_right_x, top_right_y]]"
   ]
  },
  {
   "cell_type": "code",
   "execution_count": 2,
   "id": "352dae7c",
   "metadata": {},
   "outputs": [],
   "source": [
    "def get_intersection_area(rect1, rect2):\n",
    "\n",
    "    left_x = max(rect1[0][0], rect2[0][0])\n",
    "    left_y = max(rect1[0][1], rect2[0][1])\n",
    "    \n",
    "    right_x = min(rect1[1][0], rect2[1][0])\n",
    "    right_y = min(rect1[1][1], rect2[1][1])\n",
    "\n",
    "    # get intersection area \n",
    "    intersection_area = (right_x - left_x) * (right_y - left_y)\n",
    "\n",
    "    return intersection_area"
   ]
  },
  {
   "cell_type": "code",
   "execution_count": 3,
   "id": "f879ef3b",
   "metadata": {},
   "outputs": [],
   "source": [
    "def intersectingRectangles(rect1, rect2):\n",
    "    ## YOUR SOLUTION GOES HERE...\n",
    "\n",
    "    rect1_vertices = get_bottom_left_top_right_points(rect1)\n",
    "    rect2_vertices = get_bottom_left_top_right_points(rect2)\n",
    "\n",
    "    area = get_intersection_area(rect1_vertices, rect2_vertices)\n",
    " \n",
    "    if area > 0:\n",
    "        return True \n",
    "    else: \n",
    "        return False"
   ]
  },
  {
   "cell_type": "code",
   "execution_count": 4,
   "id": "fbca7e08",
   "metadata": {},
   "outputs": [
    {
     "data": {
      "text/plain": [
       "True"
      ]
     },
     "execution_count": 4,
     "metadata": {},
     "output_type": "execute_result"
    }
   ],
   "source": [
    "intersectingRectangles(rect1 = [[1,2],[3,4]], rect2 = [[2,1],[5,3]])  # Expected: True"
   ]
  },
  {
   "cell_type": "code",
   "execution_count": 5,
   "id": "65dbc7c9",
   "metadata": {},
   "outputs": [
    {
     "data": {
      "text/plain": [
       "True"
      ]
     },
     "execution_count": 5,
     "metadata": {},
     "output_type": "execute_result"
    }
   ],
   "source": [
    "intersectingRectangles(rect1 = [[3,2],[8,9]], rect2 = [[4,4],[6,7]])  # Expected: True"
   ]
  },
  {
   "cell_type": "code",
   "execution_count": 6,
   "id": "88768cf0",
   "metadata": {},
   "outputs": [
    {
     "data": {
      "text/plain": [
       "False"
      ]
     },
     "execution_count": 6,
     "metadata": {},
     "output_type": "execute_result"
    }
   ],
   "source": [
    "intersectingRectangles(rect1 = [[1,2],[3,4]], rect2 = [[11,1],[9,5]])  # Expected: False"
   ]
  },
  {
   "cell_type": "code",
   "execution_count": null,
   "id": "33e1c242",
   "metadata": {},
   "outputs": [],
   "source": []
  }
 ],
 "metadata": {
  "kernelspec": {
   "display_name": "Python 3 (ipykernel)",
   "language": "python",
   "name": "python3"
  },
  "language_info": {
   "codemirror_mode": {
    "name": "ipython",
    "version": 3
   },
   "file_extension": ".py",
   "mimetype": "text/x-python",
   "name": "python",
   "nbconvert_exporter": "python",
   "pygments_lexer": "ipython3",
   "version": "3.9.12"
  },
  "vscode": {
   "interpreter": {
    "hash": "1dd8128278d17e687420caed8a030cca6b6303bdacf9929706dc2ad0ed26791d"
   }
  }
 },
 "nbformat": 4,
 "nbformat_minor": 5
}
