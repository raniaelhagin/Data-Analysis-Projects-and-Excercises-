{
 "cells": [
  {
   "cell_type": "markdown",
   "id": "2f7fd661",
   "metadata": {},
   "source": [
    "<center>\n",
    "    <H1>\n",
    "        Perfect Squares\n",
    "    </H1>\n",
    "</center>\n",
    "\n",
    "<hr style=\"height:2px\">\n",
    "\n",
    "<center>\n",
    "    <H3>\n",
    "        Problem\n",
    "    </H3>\n",
    "</center>\n",
    "\n",
    "<BR>\n",
    "<p style=\"font-weight: bold; text-align: center\">\n",
    "Write a function that takes integer <code>n</code> and returns <u>the least number of perfect square numbers that sum to <code>n</code></u>.\n",
    "</p>\n",
    "<BR>\n",
    "\n",
    "A perfect square is an integer that is the square of an integer; in other words, it is the product of some integer with itself. For example, `1`, `4`, `9`, and `16` are perfect squares while `3` and `11` are not.\n",
    "\n",
    "<hr style=\"height:2px\">\n",
    "\n",
    "<center>\n",
    "    <H3>\n",
    "        Sample Inputs & Outputs\n",
    "    </H3>\n",
    "</center>\n",
    "\n",
    "Sample input(s) and output(s) are given below. Note that the examples below are not exhaustive and that we will try your solution on other examples that are held back for verification later. Do try to account for as many cases as you can. Good Luck!\n",
    "\n",
    "#### Example 1\n",
    "```\n",
    "Input: n = 12\n",
    "Output: 3\n",
    "Explanation: 12 = 4 + 4 + 4.\n",
    "```\n",
    "\n",
    "#### Example 2\n",
    "```\n",
    "Input: n = 13\n",
    "Output: 2\n",
    "Explanation: 13 = 4 + 9.\n",
    "```\n",
    "\n",
    "#### Constraints:\n",
    "- `1 <= n <= 10^4`\n",
    "\n",
    "<hr style=\"height:2px\">"
   ]
  },
  {
   "cell_type": "markdown",
   "id": "252f43ec",
   "metadata": {},
   "source": [
    "Please fill in the function below, then try your solution on the examples given at the bottom of this notebook.\n",
    "\n",
    "**Do NOT import or use any external libraries. AVOID `import` statements in your solution (e.g. `import numpy as np`).\n",
    "Use only base Python functions and pre-loaded libraries.**\n",
    "\n",
    "*You are free to add your own helper functions to be called by the function below.*\n",
    "\n",
    "Examples of functions/methods that you may use:\n",
    "   - min()\n",
    "   - max()\n",
    "   - len()\n",
    "   - type()\n",
    "   - range()\n",
    "   - reversed()\n",
    "   - list.sort()\n",
    "   - list.append()\n",
    "   - list.extend()\n",
    "   - list.pop()\n",
    "   - list.remove()"
   ]
  },
  {
   "cell_type": "code",
   "execution_count": 1,
   "id": "11688043",
   "metadata": {},
   "outputs": [],
   "source": [
    "def binary_search(n):\n",
    "    l = 1\n",
    "    h = 101\n",
    "    \n",
    "    while (l <= h):\n",
    "        m = (l + h) // 2\n",
    "        \n",
    "        if m*m == n:\n",
    "            return m\n",
    "        \n",
    "        elif m*m > n:\n",
    "            if (m-1 < l):\n",
    "                return m-1\n",
    "            else:\n",
    "                h = m \n",
    "        else: \n",
    "            if (m+1 >= h):\n",
    "                return m \n",
    "            else:\n",
    "                l = m + 1\n",
    "\n",
    "    return 0\n"
   ]
  },
  {
   "cell_type": "code",
   "execution_count": 2,
   "id": "6d291f34",
   "metadata": {},
   "outputs": [],
   "source": [
    "def perfectSquares(n):\n",
    "    ## write your solution here!\n",
    "    \n",
    "    # get max number that its perfect square is the nearest to n:: 1 - 100 \n",
    "    max_ps = binary_search(n)\n",
    "    paths = [n]\n",
    "    \n",
    "    if max_ps == 1 or max_ps == 0:\n",
    "        return n \n",
    "    \n",
    "    else:\n",
    "        for i in range(max_ps, 1, -1):\n",
    "            result = n\n",
    "            path = 0\n",
    "            ps = i\n",
    "            \n",
    "            if (n % (i*i)) == 0: \n",
    "                paths.append(n // (i*i))\n",
    "                \n",
    "            while(result != 0):\n",
    "                path += 1\n",
    "                result = result - ps*ps\n",
    "                ps = binary_search(result)\n",
    "                \n",
    "            paths.append(path)\n",
    "            \n",
    "        return (min(paths))\n",
    "    \n",
    "    return -1"
   ]
  },
  {
   "cell_type": "code",
   "execution_count": 3,
   "id": "c5651741",
   "metadata": {
    "scrolled": true
   },
   "outputs": [
    {
     "data": {
      "text/plain": [
       "3"
      ]
     },
     "execution_count": 3,
     "metadata": {},
     "output_type": "execute_result"
    }
   ],
   "source": [
    "perfectSquares(12)  # Expected: 3  (4 + 4 + 4)"
   ]
  },
  {
   "cell_type": "code",
   "execution_count": 4,
   "id": "e7fe37fb",
   "metadata": {},
   "outputs": [
    {
     "data": {
      "text/plain": [
       "2"
      ]
     },
     "execution_count": 4,
     "metadata": {},
     "output_type": "execute_result"
    }
   ],
   "source": [
    "perfectSquares(13)  # Expected: 2  (4 + 9)"
   ]
  },
  {
   "cell_type": "code",
   "execution_count": 5,
   "id": "2a4de7b8",
   "metadata": {},
   "outputs": [
    {
     "data": {
      "text/plain": [
       "1"
      ]
     },
     "execution_count": 5,
     "metadata": {},
     "output_type": "execute_result"
    }
   ],
   "source": [
    "perfectSquares(16)  # Expected: 1  (16)"
   ]
  },
  {
   "cell_type": "code",
   "execution_count": 6,
   "id": "beac0ba8",
   "metadata": {},
   "outputs": [
    {
     "data": {
      "text/plain": [
       "3"
      ]
     },
     "execution_count": 6,
     "metadata": {},
     "output_type": "execute_result"
    }
   ],
   "source": [
    "perfectSquares(48)  # Expected: 3  (16 + 16 + 16)"
   ]
  },
  {
   "cell_type": "code",
   "execution_count": null,
   "id": "fbfccbbe",
   "metadata": {},
   "outputs": [],
   "source": []
  }
 ],
 "metadata": {
  "kernelspec": {
   "display_name": "Python 3 (ipykernel)",
   "language": "python",
   "name": "python3"
  },
  "language_info": {
   "codemirror_mode": {
    "name": "ipython",
    "version": 3
   },
   "file_extension": ".py",
   "mimetype": "text/x-python",
   "name": "python",
   "nbconvert_exporter": "python",
   "pygments_lexer": "ipython3",
   "version": "3.9.12"
  }
 },
 "nbformat": 4,
 "nbformat_minor": 5
}
