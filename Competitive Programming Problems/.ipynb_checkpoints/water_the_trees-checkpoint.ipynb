{
 "cells": [
  {
   "cell_type": "markdown",
   "id": "2f7fd661",
   "metadata": {},
   "source": [
    "<center>\n",
    "    <H1>\n",
    "        Water the Trees\n",
    "    </H1>\n",
    "</center>\n",
    "\n",
    "<hr style=\"height:2px\">\n",
    "\n",
    "<center>\n",
    "    <H3>\n",
    "        Problem\n",
    "    </H3>\n",
    "</center>\n",
    "\n",
    "There are $n$ trees in a park, numbered from $1$ to $n$. The initial height of the $i$-th tree is $h_i$.\n",
    "\n",
    "You want to water these trees, so they all grow to the same height. The watering process goes as follows. You start watering trees at day 1. During the $j$-th day you can:\n",
    "\n",
    "- Choose a tree and water it. If the day is odd (e.g. $1$,$3$,$5$,$7$,…), then the height of the tree increases by $1$. If the day is even (e.g. $2$,$4$,$6$,$8$,…), then the height of the tree increases by $2$.\n",
    "- Or skip a day without watering any tree. \n",
    "\n",
    "Note that you can't water more than one tree in a day.\n",
    "\n",
    "<BR>\n",
    "<p style=\"font-weight: bold; text-align: center\">\n",
    "Write a function that takes in an array of <code>n</code> trees (integers) and returns <BR><u>the minimum number of days required to water the trees so that they grow to the same height</u>.\n",
    "</p>\n",
    "<BR>\n",
    "\n",
    "<hr style=\"height:2px\">\n",
    "\n",
    "<center>\n",
    "    <H3>\n",
    "        Sample Inputs & Outputs\n",
    "    </H3>\n",
    "</center>\n",
    "\n",
    "Sample input(s) and output(s) are given below. Note that the examples below are not exhaustive and that we will try your solution on other examples that are held back for verification later. Do try to account for as many cases as you can. Good Luck!\n",
    "\n",
    "#### Example 1\n",
    "```\n",
    "Input: array = [1, 2, 4]\n",
    "Output: 4\n",
    "Explanation: \n",
    "    - Initial state is [1, 2, 4]\n",
    "    - On day 1, water the 1st tree (grows to 2). Sequence is now [2, 2, 4].\n",
    "    - On day 2, water the 2nd tree, (grows to 4). Sequence is now [2, 4, 4].\n",
    "    - On day 3, skip. \n",
    "    - On day 4, water the 1st tree (grows to 4). Sequence is now [4, 4, 4].\n",
    "```\n",
    "\n",
    "#### Example 2\n",
    "```\n",
    "Input: array = [4, 4, 3, 5, 5]\n",
    "Output: 3\n",
    "```\n",
    "\n",
    "#### Example 3\n",
    "```\n",
    "Input: array = [2, 5, 4, 8, 3, 7, 4]\n",
    "Output: 16\n",
    "```\n",
    "\n",
    "<hr style=\"height:2px\">"
   ]
  },
  {
   "cell_type": "markdown",
   "id": "474d5c43",
   "metadata": {},
   "source": [
    "Please fill in the function below, then try your solution on the examples given at the bottom of this notebook.\n",
    "\n",
    "**Do NOT import or use any external libraries. AVOID `import` statements in your solution (e.g. `import numpy as np`).\n",
    "Use only base Python functions and pre-loaded libraries.**\n",
    "\n",
    "*You are free to add your own helper functions to be called by the function below.*\n",
    "\n",
    "Examples of functions/methods that you may use:\n",
    "   - min()\n",
    "   - max()\n",
    "   - len()\n",
    "   - type()\n",
    "   - range()\n",
    "   - reversed()\n",
    "   - list.sort()\n",
    "   - list.append()\n",
    "   - list.extend()\n",
    "   - list.pop()\n",
    "   - list.remove()"
   ]
  },
  {
   "cell_type": "code",
   "execution_count": 1,
   "id": "6d291f34",
   "metadata": {},
   "outputs": [],
   "source": [
    "def minimumDays(array):\n",
    "    ## write your solution here!\n",
    "    max_hight = max(array)\n",
    "    \n",
    "    even_days = 0\n",
    "    odd_days  = 0\n",
    "    for hight in array:\n",
    "        even_days += (max_hight - hight) // 2\n",
    "        odd_days  += (max_hight - hight) % 2 \n",
    "        \n",
    "    if (even_days == odd_days):\n",
    "        return (even_days + odd_days)\n",
    "    \n",
    "    elif (even_days > odd_days):\n",
    "        x = -(-(even_days - odd_days) // 3)\n",
    "        even_days = even_days - x \n",
    "        odd_days  = odd_days + 2*x\n",
    "        return (even_days + odd_days)\n",
    "    \n",
    "    elif(odd_days > even_days):\n",
    "        x = (odd_days - even_days) // 3\n",
    "        even_days = even_days + x\n",
    "        odd_days  = odd_days - 2*x\n",
    "        return (even_days + odd_days) \n",
    "    \n",
    "    return -1"
   ]
  },
  {
   "cell_type": "code",
   "execution_count": 2,
   "id": "81f3bee6",
   "metadata": {},
   "outputs": [
    {
     "data": {
      "text/plain": [
       "4"
      ]
     },
     "execution_count": 2,
     "metadata": {},
     "output_type": "execute_result"
    }
   ],
   "source": [
    "minimumDays([1, 2, 4])  # Expected: 4"
   ]
  },
  {
   "cell_type": "code",
   "execution_count": 3,
   "id": "12d02f9d",
   "metadata": {},
   "outputs": [
    {
     "data": {
      "text/plain": [
       "3"
      ]
     },
     "execution_count": 3,
     "metadata": {},
     "output_type": "execute_result"
    }
   ],
   "source": [
    "minimumDays([4, 4, 3, 5, 5])  # Expected: 3"
   ]
  },
  {
   "cell_type": "code",
   "execution_count": 4,
   "id": "d7b681a0",
   "metadata": {},
   "outputs": [
    {
     "data": {
      "text/plain": [
       "16"
      ]
     },
     "execution_count": 4,
     "metadata": {},
     "output_type": "execute_result"
    }
   ],
   "source": [
    "minimumDays([2, 5, 4, 8, 3, 7, 4])  # Expected: 16"
   ]
  },
  {
   "cell_type": "code",
   "execution_count": null,
   "id": "c6fb2b79-fb94-4bdf-8390-7ad22066fa8c",
   "metadata": {},
   "outputs": [],
   "source": []
  }
 ],
 "metadata": {
  "kernelspec": {
   "display_name": "Python 3 (ipykernel)",
   "language": "python",
   "name": "python3"
  },
  "language_info": {
   "codemirror_mode": {
    "name": "ipython",
    "version": 3
   },
   "file_extension": ".py",
   "mimetype": "text/x-python",
   "name": "python",
   "nbconvert_exporter": "python",
   "pygments_lexer": "ipython3",
   "version": "3.9.12"
  }
 },
 "nbformat": 4,
 "nbformat_minor": 5
}
