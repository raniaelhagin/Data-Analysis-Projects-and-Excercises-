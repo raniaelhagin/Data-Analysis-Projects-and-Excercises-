{
 "cells": [
  {
   "cell_type": "markdown",
   "id": "2f7fd661",
   "metadata": {},
   "source": [
    "<center>\n",
    "    <H1>\n",
    "        Monotonic Array\n",
    "    </H1>\n",
    "</center>\n",
    "\n",
    "<hr style=\"height:2px\">\n",
    "\n",
    "<center>\n",
    "    <H3>\n",
    "        Problem\n",
    "    </H3>\n",
    "</center>\n",
    "\n",
    "<BR>\n",
    "<p style=\"font-weight: bold; text-align: center\">\n",
    "Write a function that takes in an array of integers and returns <u>a boolean representing whether the array is monotonic</u>.\n",
    "</p>\n",
    "<BR>\n",
    "\n",
    "An array is said to be monotonic if its elements, from left to right, are entirely non-increasing or entirely non-decreasing.\n",
    "\n",
    "Non-increasing elements aren't necessarily exclusively decreasing; they simply don't increase. Similarly, Non-decreasing elements aren't necessarily exclusively increasing; they simply don't decrease.\n",
    "\n",
    "Note that empty arrays and arrays of one element are monotonic.\n",
    "\n",
    "<hr style=\"height:2px\">\n",
    "\n",
    "<center>\n",
    "    <H3>\n",
    "        Sample Inputs & Outputs\n",
    "    </H3>\n",
    "</center>\n",
    "\n",
    "Sample input(s) and output(s) are given below. Note that the examples below are not exhaustive and that we will try your solution on other examples that are held back for verification later. Do try to account for as many cases as you can. Good Luck!\n",
    "\n",
    "#### Example 1\n",
    "```\n",
    "Input: array = [-1, -5, -10, -1100, -1100, -1101, -1102, -9001]\n",
    "Output: True\n",
    "```\n",
    "\n",
    "<hr style=\"height:2px\">"
   ]
  },
  {
   "cell_type": "markdown",
   "id": "c5a66a92",
   "metadata": {},
   "source": [
    "Please fill in the function below, then try your solution on the examples given at the bottom of this notebook.\n",
    "\n",
    "**Do NOT import or use any external libraries. AVOID `import` statements in your solution (e.g. `import numpy as np`).\n",
    "Use only base Python functions and pre-loaded libraries.**\n",
    "\n",
    "*You are free to add your own helper functions to be called by the function below.*\n",
    "\n",
    "Examples of functions/methods that you may use:\n",
    "   - min()\n",
    "   - max()\n",
    "   - len()\n",
    "   - type()\n",
    "   - range()\n",
    "   - reversed()\n",
    "   - list.sort()\n",
    "   - list.append()\n",
    "   - list.extend()\n",
    "   - list.pop()\n",
    "   - list.remove()"
   ]
  },
  {
   "cell_type": "code",
   "execution_count": 1,
   "id": "41cccf38",
   "metadata": {},
   "outputs": [],
   "source": [
    "def isMonotonic(array):\n",
    "    ## write your solution here!\n",
    "    arr_len = len(array)\n",
    "    \n",
    "    if (arr_len==0 or arr_len==1):\n",
    "        return True\n",
    "    \n",
    "    else:\n",
    "        is_increasing = True\n",
    "        is_decreasing = True\n",
    "        \n",
    "        for i in range(len(array)-1):\n",
    "            if (array[i] > array[i+1]):\n",
    "                is_increasing = False\n",
    "            elif (array[i] < array[i+1]):\n",
    "                is_decreasing = False \n",
    "                \n",
    "        return (is_increasing or is_decreasing)"
   ]
  },
  {
   "cell_type": "code",
   "execution_count": 2,
   "id": "c5651741",
   "metadata": {},
   "outputs": [
    {
     "data": {
      "text/plain": [
       "True"
      ]
     },
     "execution_count": 2,
     "metadata": {},
     "output_type": "execute_result"
    }
   ],
   "source": [
    "isMonotonic([-1, -5, -10, -1100, -1100, -1101, -1102, -9001])  # Expected: True"
   ]
  },
  {
   "cell_type": "code",
   "execution_count": null,
   "id": "c233ea95",
   "metadata": {},
   "outputs": [],
   "source": []
  }
 ],
 "metadata": {
  "kernelspec": {
   "display_name": "Python 3 (ipykernel)",
   "language": "python",
   "name": "python3"
  },
  "language_info": {
   "codemirror_mode": {
    "name": "ipython",
    "version": 3
   },
   "file_extension": ".py",
   "mimetype": "text/x-python",
   "name": "python",
   "nbconvert_exporter": "python",
   "pygments_lexer": "ipython3",
   "version": "3.9.12"
  }
 },
 "nbformat": 4,
 "nbformat_minor": 5
}
