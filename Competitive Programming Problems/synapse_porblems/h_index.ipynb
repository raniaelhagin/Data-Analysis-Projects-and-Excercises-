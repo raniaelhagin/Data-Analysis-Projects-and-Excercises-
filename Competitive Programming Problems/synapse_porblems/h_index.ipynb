{
 "cells": [
  {
   "cell_type": "markdown",
   "id": "02efd40c",
   "metadata": {},
   "source": [
    "<center>\n",
    "    <H1>\n",
    "        H-Index\n",
    "    </H1>\n",
    "</center>\n",
    "\n",
    "<hr style=\"height:2px\">\n",
    "\n",
    "<center>\n",
    "    <H3>\n",
    "        Problem\n",
    "    </H3>\n",
    "</center>\n",
    "\n",
    "You're given an array of integers `citations` where `citations[i]` is the number of citations a researcher received for their `i`th paper.\n",
    "\n",
    "<BR>\n",
    "<p style=\"font-weight: bold; text-align: center\">\n",
    "    Write a function that returns <u>the researcher's <code>h</code>-index</u>.\n",
    "</p>\n",
    "<BR>\n",
    "\n",
    "A scientist has an index `h` if `h` of their `n` papers have at least `h` citations each, and the other `n − h` papers have no more than `h` citations each.\n",
    "\n",
    "If there are several possible values for `h`, the maximum one is taken as the `h`-index.\n",
    "\n",
    "<hr style=\"height:2px\">\n",
    "\n",
    "<center>\n",
    "    <H3>\n",
    "        Sample Inputs & Outputs\n",
    "    </H3>\n",
    "</center>\n",
    "\n",
    "Sample input(s) and output(s) are given below. Note that the examples below are not exhaustive and that we will try your solution on other examples that are held back for verification later. Do try to account for as many cases as you can. Good Luck!\n",
    "\n",
    "#### Example 1\n",
    "```\n",
    "Input: citations = [3,0,6,1,5]\n",
    "Output: 3\n",
    "```\n",
    "\n",
    "#### Example 2\n",
    "```\n",
    "Input: citations = [1,3,1]\n",
    "Output: 1\n",
    "```\n",
    "\n",
    "#### Constraints:\n",
    "- `n == citations.length`\n",
    "- `1 <= n <= 5000`\n",
    "- `0 <= citations[i] <= 1000`\n",
    "\n",
    "<hr style=\"height:2px\">"
   ]
  },
  {
   "cell_type": "markdown",
   "id": "f8038ac3",
   "metadata": {},
   "source": [
    "Please fill in the function below, then try your solution on the examples given at the bottom of this notebook.\n",
    "\n",
    "**Do NOT import or use any external libraries. AVOID `import` statements in your solution (e.g. `import numpy as np`).\n",
    "Use only base Python functions and pre-loaded libraries.**\n",
    "\n",
    "*You are free to add your own helper functions to be called by the function below.*\n",
    "\n",
    "Examples of functions/methods that you may use:\n",
    "   - min()\n",
    "   - max()\n",
    "   - len()\n",
    "   - type()\n",
    "   - range()\n",
    "   - reversed()\n",
    "   - list.sort()\n",
    "   - list.append()\n",
    "   - list.extend()\n",
    "   - list.pop()\n",
    "   - list.remove()"
   ]
  },
  {
   "cell_type": "code",
   "execution_count": 1,
   "id": "3b002751",
   "metadata": {},
   "outputs": [],
   "source": [
    "def hIndex(citations):\n",
    "    ## YOUR SOLUTION GOES HERE...\n",
    "    \n",
    "    citations.sort() # Sort the list in ascending order  \n",
    "    \n",
    "    for i in range(len(citations)):\n",
    "        \n",
    "        h_index = len(citations) - i \n",
    "        \n",
    "        if h_index <= citations[i]:\n",
    "            return h_index\n",
    "        \n",
    "    return -1"
   ]
  },
  {
   "cell_type": "code",
   "execution_count": 2,
   "id": "e32259fc",
   "metadata": {},
   "outputs": [
    {
     "data": {
      "text/plain": [
       "3"
      ]
     },
     "execution_count": 2,
     "metadata": {},
     "output_type": "execute_result"
    }
   ],
   "source": [
    "hIndex([3,0,6,1,5])  # Expected: 3"
   ]
  },
  {
   "cell_type": "code",
   "execution_count": 3,
   "id": "446c74d9",
   "metadata": {},
   "outputs": [
    {
     "data": {
      "text/plain": [
       "1"
      ]
     },
     "execution_count": 3,
     "metadata": {},
     "output_type": "execute_result"
    }
   ],
   "source": [
    "hIndex([1,3,1])  # Expected: 1"
   ]
  }
 ],
 "metadata": {
  "kernelspec": {
   "display_name": "Python 3 (ipykernel)",
   "language": "python",
   "name": "python3"
  },
  "language_info": {
   "codemirror_mode": {
    "name": "ipython",
    "version": 3
   },
   "file_extension": ".py",
   "mimetype": "text/x-python",
   "name": "python",
   "nbconvert_exporter": "python",
   "pygments_lexer": "ipython3",
   "version": "3.9.12"
  },
  "vscode": {
   "interpreter": {
    "hash": "1dd8128278d17e687420caed8a030cca6b6303bdacf9929706dc2ad0ed26791d"
   }
  }
 },
 "nbformat": 4,
 "nbformat_minor": 5
}
