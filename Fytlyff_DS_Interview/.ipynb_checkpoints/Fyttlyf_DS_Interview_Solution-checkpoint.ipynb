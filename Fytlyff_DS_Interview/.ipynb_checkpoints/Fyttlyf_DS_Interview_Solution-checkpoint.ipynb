{
 "cells": [
  {
   "cell_type": "markdown",
   "id": "742db7bc-3ffe-44ff-a86a-31515fe45e16",
   "metadata": {},
   "source": [
    "# Fyttlyf Data Science Team Test Solution"
   ]
  },
  {
   "cell_type": "markdown",
   "id": "0ad06e7a-f081-4de5-a2e4-4a8a3cdb5e5e",
   "metadata": {},
   "source": [
    "## Part 0: Reading the data"
   ]
  },
  {
   "cell_type": "code",
   "execution_count": 1,
   "id": "f187eb4e-4c04-48ed-93ad-9346350429e4",
   "metadata": {},
   "outputs": [],
   "source": [
    "# import the needed libraries \n",
    "import pandas as pd"
   ]
  },
  {
   "cell_type": "code",
   "execution_count": 2,
   "id": "dfc5427b-5603-4e6a-87ac-3fd7f1427081",
   "metadata": {},
   "outputs": [
    {
     "data": {
      "text/html": [
       "<div>\n",
       "<style scoped>\n",
       "    .dataframe tbody tr th:only-of-type {\n",
       "        vertical-align: middle;\n",
       "    }\n",
       "\n",
       "    .dataframe tbody tr th {\n",
       "        vertical-align: top;\n",
       "    }\n",
       "\n",
       "    .dataframe thead th {\n",
       "        text-align: right;\n",
       "    }\n",
       "</style>\n",
       "<table border=\"1\" class=\"dataframe\">\n",
       "  <thead>\n",
       "    <tr style=\"text-align: right;\">\n",
       "      <th></th>\n",
       "      <th>Year</th>\n",
       "      <th>Month</th>\n",
       "      <th>MobileWeb_or_Web</th>\n",
       "      <th>Type_of_Customers?</th>\n",
       "      <th>Where_Are_They_comming_from?</th>\n",
       "      <th>Which_Place_in_India?</th>\n",
       "      <th>How_many_Landed_on_our_Page?</th>\n",
       "      <th>How_many_Landed_on_the_our_Page_and_clicked_on_a_button?</th>\n",
       "      <th>How_many_Landed_on_the_our_Page_and_clicked_on_a_button_and_started_filling_the_Form?</th>\n",
       "      <th>How_many_Landed_on_the_our_Page_and_clicked_on_a_button_and_started_filling_the_Form_and_Completed_and_submited_the_form?</th>\n",
       "    </tr>\n",
       "  </thead>\n",
       "  <tbody>\n",
       "    <tr>\n",
       "      <th>0</th>\n",
       "      <td>2019</td>\n",
       "      <td>Jan</td>\n",
       "      <td>Desktop_Website</td>\n",
       "      <td>Existing_Customer</td>\n",
       "      <td>Came_From_Google</td>\n",
       "      <td>Bangalore</td>\n",
       "      <td>NaN</td>\n",
       "      <td>NaN</td>\n",
       "      <td>56892</td>\n",
       "      <td>17178</td>\n",
       "    </tr>\n",
       "    <tr>\n",
       "      <th>1</th>\n",
       "      <td>2019</td>\n",
       "      <td>Jan</td>\n",
       "      <td>Desktop_Website</td>\n",
       "      <td>Existing_Customer</td>\n",
       "      <td>Came_From_Google</td>\n",
       "      <td>Chennai</td>\n",
       "      <td>NaN</td>\n",
       "      <td>NaN</td>\n",
       "      <td>41460</td>\n",
       "      <td>11916</td>\n",
       "    </tr>\n",
       "    <tr>\n",
       "      <th>2</th>\n",
       "      <td>2019</td>\n",
       "      <td>Jan</td>\n",
       "      <td>Desktop_Website</td>\n",
       "      <td>Existing_Customer</td>\n",
       "      <td>Came_From_Google</td>\n",
       "      <td>Dehradun</td>\n",
       "      <td>NaN</td>\n",
       "      <td>NaN</td>\n",
       "      <td>55561</td>\n",
       "      <td>19461</td>\n",
       "    </tr>\n",
       "    <tr>\n",
       "      <th>3</th>\n",
       "      <td>2019</td>\n",
       "      <td>Jan</td>\n",
       "      <td>Desktop_Website</td>\n",
       "      <td>Existing_Customer</td>\n",
       "      <td>Came_From_Google</td>\n",
       "      <td>Indore</td>\n",
       "      <td>NaN</td>\n",
       "      <td>NaN</td>\n",
       "      <td>320923</td>\n",
       "      <td>110667</td>\n",
       "    </tr>\n",
       "    <tr>\n",
       "      <th>4</th>\n",
       "      <td>2019</td>\n",
       "      <td>Jan</td>\n",
       "      <td>Desktop_Website</td>\n",
       "      <td>Existing_Customer</td>\n",
       "      <td>Came_From_Google</td>\n",
       "      <td>Pune</td>\n",
       "      <td>NaN</td>\n",
       "      <td>NaN</td>\n",
       "      <td>220937</td>\n",
       "      <td>46033</td>\n",
       "    </tr>\n",
       "  </tbody>\n",
       "</table>\n",
       "</div>"
      ],
      "text/plain": [
       "   Year Month MobileWeb_or_Web Type_of_Customers?  \\\n",
       "0  2019   Jan  Desktop_Website  Existing_Customer   \n",
       "1  2019   Jan  Desktop_Website  Existing_Customer   \n",
       "2  2019   Jan  Desktop_Website  Existing_Customer   \n",
       "3  2019   Jan  Desktop_Website  Existing_Customer   \n",
       "4  2019   Jan  Desktop_Website  Existing_Customer   \n",
       "\n",
       "  Where_Are_They_comming_from? Which_Place_in_India?  \\\n",
       "0             Came_From_Google             Bangalore   \n",
       "1             Came_From_Google               Chennai   \n",
       "2             Came_From_Google              Dehradun   \n",
       "3             Came_From_Google                Indore   \n",
       "4             Came_From_Google                  Pune   \n",
       "\n",
       "   How_many_Landed_on_our_Page?  \\\n",
       "0                           NaN   \n",
       "1                           NaN   \n",
       "2                           NaN   \n",
       "3                           NaN   \n",
       "4                           NaN   \n",
       "\n",
       "   How_many_Landed_on_the_our_Page_and_clicked_on_a_button?  \\\n",
       "0                                                NaN          \n",
       "1                                                NaN          \n",
       "2                                                NaN          \n",
       "3                                                NaN          \n",
       "4                                                NaN          \n",
       "\n",
       "   How_many_Landed_on_the_our_Page_and_clicked_on_a_button_and_started_filling_the_Form?  \\\n",
       "0                                              56892                                       \n",
       "1                                              41460                                       \n",
       "2                                              55561                                       \n",
       "3                                             320923                                       \n",
       "4                                             220937                                       \n",
       "\n",
       "   How_many_Landed_on_the_our_Page_and_clicked_on_a_button_and_started_filling_the_Form_and_Completed_and_submited_the_form?  \n",
       "0                                              17178                                                                          \n",
       "1                                              11916                                                                          \n",
       "2                                              19461                                                                          \n",
       "3                                             110667                                                                          \n",
       "4                                              46033                                                                          "
      ]
     },
     "execution_count": 2,
     "metadata": {},
     "output_type": "execute_result"
    }
   ],
   "source": [
    "data_path = 'Fytlyff_DS_Interview.csv'\n",
    "\n",
    "# read the dataset as a DataFrame\n",
    "dataset = pd.read_csv(data_path)\n",
    "dataset.head()   # show the first 5 rows from our dataset"
   ]
  },
  {
   "cell_type": "markdown",
   "id": "d8f5336c-f30b-4ed3-9d07-7de7ff94adb1",
   "metadata": {},
   "source": [
    "### Variables and their description for Fyttlyf DS Interview Test \n",
    "\n",
    "We see that our data has 2160 rows (cases) and 10 columns (features), The columns, their data type and their description are shown in the table below: \n",
    "\n",
    "| Variable |         Type        |        Description               |\n",
    "|----------|---------------------|----------------------------------|\n",
    "|   Year (A)  | Numerical (Discrete)| The year when the customer comming |\n",
    "| Month   (B) | Categorical (Nominal) | The month when the customer comming |\n",
    "| MobileWeb_or_Web (C) | Categorical (Nominal) | The service requested by the customer |\n",
    "| Type_of_Customers? (D) | Categorical (Nominal) | The customer status | \n",
    "| Where_Are_They_comming_from? (E) | Categorical (Nominal) | The company/organization where the customer comming from|\n",
    "| Which_Place_in_India? (F) | Categorical (Nominal) | Customer city |\n",
    "| How_many_Landed_on_our_Page? (G) | Numerical (Discrete) | Number of our page visits | \n",
    "| How_many_Landed_on_the_our_Page_and_clicked_on_a_button? (H) | Numerical (Discrete) | Number of clicks on a button when landing the page|\n",
    "| How_many_Landed_on_the_our_Page_and_clicked_on_a_button_and_started_filling_the_Form? (I) | Numerical (Discrete) | Number of clicks on a button when landing the page and filling the form |\n",
    "| How_many_Landed_on_the_our_Page_and_clicked_on_a_button_and_started_filling_the_Form_and_Completed_and_submited_the_form? (J) | Numerical (Discrete) |  Number of clicks on a button when landing the page and filling the form and completed and submitted the form|\n",
    "\n"
   ]
  },
  {
   "cell_type": "markdown",
   "id": "1b3cb7f1-c1b9-4e38-a896-5e1042a9d26a",
   "metadata": {},
   "source": [
    "## Part 1: Data cleaning"
   ]
  },
  {
   "cell_type": "code",
   "execution_count": 3,
   "id": "fb060dce-d341-4e91-be65-c1eb7ce53010",
   "metadata": {},
   "outputs": [],
   "source": [
    "def cleaning_data(dataframe):\n",
    "    \"\"\"\n",
    "    This function will perform the following:\n",
    "        1. Replace the NA values with 0s in the data\n",
    "        2. In column ‘B’ replace Jan with 1, feb with 2, march with 3 and so on…\n",
    "        3. In column ‘E’ Replace “Came_From_Google” with “Google” and “Landed_on_the_page_Directly” with “Direct_traffic”\n",
    "            \n",
    "    Parameters:\n",
    "        dataframe (dataFrame): The DataFrame of the dataset we used\n",
    "    \n",
    "    Returns\n",
    "        df (dataFrame): The cleaned data frame \n",
    "    \n",
    "    \"\"\"\n",
    "    df = dataframe.copy(deep=True)    # get a copy of the dataframe\n",
    "    \n",
    "    # renaming columns\n",
    "    df.columns = ['A', 'B', 'C', 'D', 'E', 'F', 'G', 'H', 'I', 'J']\n",
    "    \n",
    "    # get the columns that have NaN values \n",
    "    null_series = df.isnull().any()    # check if there is any missing across each column  \n",
    "    nan_cols = []    # to save the columns that have nan values \n",
    "    for col, val in null_series.iteritems():\n",
    "        if val:\n",
    "            nan_cols.append(col)\n",
    "            \n",
    "    # replace the nan values with zeros in the dataset \n",
    "    # Note: (by exploring the data we know that the nan values are only in the numerical data)\n",
    "    for nan_col in nan_cols:\n",
    "        df[nan_col].fillna(0, inplace=True)\n",
    "        \n",
    "    # replace months with numbers\n",
    "    months = ['Jan', 'Feb', 'Mar', 'Apr', 'May', 'Jun', 'Jul', 'Aug', 'Sep', 'Oct', 'Nov', 'Dec']\n",
    "    nums = [1, 2, 3, 4, 5, 6, 7, 8, 9, 10, 11, 12]\n",
    "    df['B'] = df['B'].replace(months, nums)\n",
    "    \n",
    "    # replace “Came_From_Google” with “Google” and “Landed_on_the_page_Directly” with “Direct_traffic”\n",
    "    old_vals = ['Came_From_Google', 'Landed_on_the_page_Directly']\n",
    "    new_vals = ['Google', 'Direct_traffic']\n",
    "    df['E'] = df['E'].replace(old_vals, new_vals)\n",
    "    \n",
    "    df.columns = dataframe.columns\n",
    "    # print(dataframe.columns)\n",
    "        \n",
    "    return df\n"
   ]
  },
  {
   "cell_type": "code",
   "execution_count": 4,
   "id": "1b063281-cba1-4acd-9b98-2c42592c53b8",
   "metadata": {},
   "outputs": [
    {
     "data": {
      "text/html": [
       "<div>\n",
       "<style scoped>\n",
       "    .dataframe tbody tr th:only-of-type {\n",
       "        vertical-align: middle;\n",
       "    }\n",
       "\n",
       "    .dataframe tbody tr th {\n",
       "        vertical-align: top;\n",
       "    }\n",
       "\n",
       "    .dataframe thead th {\n",
       "        text-align: right;\n",
       "    }\n",
       "</style>\n",
       "<table border=\"1\" class=\"dataframe\">\n",
       "  <thead>\n",
       "    <tr style=\"text-align: right;\">\n",
       "      <th></th>\n",
       "      <th>Year</th>\n",
       "      <th>Month</th>\n",
       "      <th>MobileWeb_or_Web</th>\n",
       "      <th>Type_of_Customers?</th>\n",
       "      <th>Where_Are_They_comming_from?</th>\n",
       "      <th>Which_Place_in_India?</th>\n",
       "      <th>How_many_Landed_on_our_Page?</th>\n",
       "      <th>How_many_Landed_on_the_our_Page_and_clicked_on_a_button?</th>\n",
       "      <th>How_many_Landed_on_the_our_Page_and_clicked_on_a_button_and_started_filling_the_Form?</th>\n",
       "      <th>How_many_Landed_on_the_our_Page_and_clicked_on_a_button_and_started_filling_the_Form_and_Completed_and_submited_the_form?</th>\n",
       "    </tr>\n",
       "  </thead>\n",
       "  <tbody>\n",
       "    <tr>\n",
       "      <th>0</th>\n",
       "      <td>2019</td>\n",
       "      <td>1</td>\n",
       "      <td>Desktop_Website</td>\n",
       "      <td>Existing_Customer</td>\n",
       "      <td>Google</td>\n",
       "      <td>Bangalore</td>\n",
       "      <td>0.0</td>\n",
       "      <td>0.0</td>\n",
       "      <td>56892</td>\n",
       "      <td>17178</td>\n",
       "    </tr>\n",
       "    <tr>\n",
       "      <th>1</th>\n",
       "      <td>2019</td>\n",
       "      <td>1</td>\n",
       "      <td>Desktop_Website</td>\n",
       "      <td>Existing_Customer</td>\n",
       "      <td>Google</td>\n",
       "      <td>Chennai</td>\n",
       "      <td>0.0</td>\n",
       "      <td>0.0</td>\n",
       "      <td>41460</td>\n",
       "      <td>11916</td>\n",
       "    </tr>\n",
       "    <tr>\n",
       "      <th>2</th>\n",
       "      <td>2019</td>\n",
       "      <td>1</td>\n",
       "      <td>Desktop_Website</td>\n",
       "      <td>Existing_Customer</td>\n",
       "      <td>Google</td>\n",
       "      <td>Dehradun</td>\n",
       "      <td>0.0</td>\n",
       "      <td>0.0</td>\n",
       "      <td>55561</td>\n",
       "      <td>19461</td>\n",
       "    </tr>\n",
       "    <tr>\n",
       "      <th>3</th>\n",
       "      <td>2019</td>\n",
       "      <td>1</td>\n",
       "      <td>Desktop_Website</td>\n",
       "      <td>Existing_Customer</td>\n",
       "      <td>Google</td>\n",
       "      <td>Indore</td>\n",
       "      <td>0.0</td>\n",
       "      <td>0.0</td>\n",
       "      <td>320923</td>\n",
       "      <td>110667</td>\n",
       "    </tr>\n",
       "    <tr>\n",
       "      <th>4</th>\n",
       "      <td>2019</td>\n",
       "      <td>1</td>\n",
       "      <td>Desktop_Website</td>\n",
       "      <td>Existing_Customer</td>\n",
       "      <td>Google</td>\n",
       "      <td>Pune</td>\n",
       "      <td>0.0</td>\n",
       "      <td>0.0</td>\n",
       "      <td>220937</td>\n",
       "      <td>46033</td>\n",
       "    </tr>\n",
       "  </tbody>\n",
       "</table>\n",
       "</div>"
      ],
      "text/plain": [
       "   Year  Month MobileWeb_or_Web Type_of_Customers?  \\\n",
       "0  2019      1  Desktop_Website  Existing_Customer   \n",
       "1  2019      1  Desktop_Website  Existing_Customer   \n",
       "2  2019      1  Desktop_Website  Existing_Customer   \n",
       "3  2019      1  Desktop_Website  Existing_Customer   \n",
       "4  2019      1  Desktop_Website  Existing_Customer   \n",
       "\n",
       "  Where_Are_They_comming_from? Which_Place_in_India?  \\\n",
       "0                       Google             Bangalore   \n",
       "1                       Google               Chennai   \n",
       "2                       Google              Dehradun   \n",
       "3                       Google                Indore   \n",
       "4                       Google                  Pune   \n",
       "\n",
       "   How_many_Landed_on_our_Page?  \\\n",
       "0                           0.0   \n",
       "1                           0.0   \n",
       "2                           0.0   \n",
       "3                           0.0   \n",
       "4                           0.0   \n",
       "\n",
       "   How_many_Landed_on_the_our_Page_and_clicked_on_a_button?  \\\n",
       "0                                                0.0          \n",
       "1                                                0.0          \n",
       "2                                                0.0          \n",
       "3                                                0.0          \n",
       "4                                                0.0          \n",
       "\n",
       "   How_many_Landed_on_the_our_Page_and_clicked_on_a_button_and_started_filling_the_Form?  \\\n",
       "0                                              56892                                       \n",
       "1                                              41460                                       \n",
       "2                                              55561                                       \n",
       "3                                             320923                                       \n",
       "4                                             220937                                       \n",
       "\n",
       "   How_many_Landed_on_the_our_Page_and_clicked_on_a_button_and_started_filling_the_Form_and_Completed_and_submited_the_form?  \n",
       "0                                              17178                                                                          \n",
       "1                                              11916                                                                          \n",
       "2                                              19461                                                                          \n",
       "3                                             110667                                                                          \n",
       "4                                              46033                                                                          "
      ]
     },
     "execution_count": 4,
     "metadata": {},
     "output_type": "execute_result"
    }
   ],
   "source": [
    "# cleaning_data(dataset)\n",
    "cleaned_data = cleaning_data(dataset)\n",
    "cleaned_data.head()"
   ]
  },
  {
   "cell_type": "markdown",
   "id": "b7a01c3e-4908-4e19-a66e-5b66fb53b7fc",
   "metadata": {},
   "source": [
    "## Part 2: Descriptive statistics"
   ]
  },
  {
   "cell_type": "code",
   "execution_count": 5,
   "id": "4485906f-35b3-4dc8-ac1c-42bad7553f2e",
   "metadata": {},
   "outputs": [],
   "source": [
    "def descriptive_stats(dataframe):\n",
    "    \"\"\"\n",
    "    Generates the summary statistics (Mean, Median, Quartile, standard deviation) \n",
    "    of all the numerical columns\n",
    "    Produce a list of all the unique values & data types present in the non-numeric columns\n",
    "    \n",
    "    Parameters:\n",
    "        dataframe (dataFrame): The cleaned DataFrame of the dataset we used\n",
    "    \n",
    "    Returns\n",
    "        summary_stat (dataFrame): A dataframe contains the summary statistics of the numerical data\n",
    "        unique_vals (list): A list of all the unique values in the categorical data and their data type \n",
    "    \"\"\"\n",
    "    \n",
    "    df = dataframe.copy(deep=True)    # get a copy of the dataframe\n",
    "    \n",
    "    # Generate the summary \n",
    "    summary_stat = df.describe() \n",
    "    \n",
    "    # get the unique values of the non-numeric columns\n",
    "    unique_vals = []  \n",
    "    for col, val in df.iteritems():\n",
    "        if col not in summary_stat.columns:\n",
    "            unique_vals.append([col, df[col].unique()])            \n",
    "\n",
    "    return summary_stat, unique_vals\n"
   ]
  },
  {
   "cell_type": "code",
   "execution_count": 6,
   "id": "f311df5d-fc3f-4fcc-9abf-7c74fe142449",
   "metadata": {},
   "outputs": [],
   "source": [
    "summary_statstics, unique_values = descriptive_stats(cleaned_data)"
   ]
  },
  {
   "cell_type": "code",
   "execution_count": 7,
   "id": "29dee6be-603f-4506-a8cb-b327cabc87a4",
   "metadata": {},
   "outputs": [
    {
     "data": {
      "text/html": [
       "<div>\n",
       "<style scoped>\n",
       "    .dataframe tbody tr th:only-of-type {\n",
       "        vertical-align: middle;\n",
       "    }\n",
       "\n",
       "    .dataframe tbody tr th {\n",
       "        vertical-align: top;\n",
       "    }\n",
       "\n",
       "    .dataframe thead th {\n",
       "        text-align: right;\n",
       "    }\n",
       "</style>\n",
       "<table border=\"1\" class=\"dataframe\">\n",
       "  <thead>\n",
       "    <tr style=\"text-align: right;\">\n",
       "      <th></th>\n",
       "      <th>Year</th>\n",
       "      <th>Month</th>\n",
       "      <th>How_many_Landed_on_our_Page?</th>\n",
       "      <th>How_many_Landed_on_the_our_Page_and_clicked_on_a_button?</th>\n",
       "      <th>How_many_Landed_on_the_our_Page_and_clicked_on_a_button_and_started_filling_the_Form?</th>\n",
       "      <th>How_many_Landed_on_the_our_Page_and_clicked_on_a_button_and_started_filling_the_Form_and_Completed_and_submited_the_form?</th>\n",
       "    </tr>\n",
       "  </thead>\n",
       "  <tbody>\n",
       "    <tr>\n",
       "      <th>count</th>\n",
       "      <td>2160.000000</td>\n",
       "      <td>2160.000000</td>\n",
       "      <td>2.160000e+03</td>\n",
       "      <td>2.160000e+03</td>\n",
       "      <td>2.160000e+03</td>\n",
       "      <td>2.160000e+03</td>\n",
       "    </tr>\n",
       "    <tr>\n",
       "      <th>mean</th>\n",
       "      <td>2020.000000</td>\n",
       "      <td>6.500000</td>\n",
       "      <td>3.922474e+05</td>\n",
       "      <td>1.792281e+05</td>\n",
       "      <td>1.510725e+05</td>\n",
       "      <td>5.922129e+04</td>\n",
       "    </tr>\n",
       "    <tr>\n",
       "      <th>std</th>\n",
       "      <td>0.816686</td>\n",
       "      <td>3.452852</td>\n",
       "      <td>9.555773e+05</td>\n",
       "      <td>3.951562e+05</td>\n",
       "      <td>2.353538e+05</td>\n",
       "      <td>8.646564e+04</td>\n",
       "    </tr>\n",
       "    <tr>\n",
       "      <th>min</th>\n",
       "      <td>2019.000000</td>\n",
       "      <td>1.000000</td>\n",
       "      <td>0.000000e+00</td>\n",
       "      <td>0.000000e+00</td>\n",
       "      <td>3.761000e+03</td>\n",
       "      <td>7.660000e+02</td>\n",
       "    </tr>\n",
       "    <tr>\n",
       "      <th>25%</th>\n",
       "      <td>2019.000000</td>\n",
       "      <td>3.750000</td>\n",
       "      <td>0.000000e+00</td>\n",
       "      <td>0.000000e+00</td>\n",
       "      <td>3.360800e+04</td>\n",
       "      <td>1.157725e+04</td>\n",
       "    </tr>\n",
       "    <tr>\n",
       "      <th>50%</th>\n",
       "      <td>2020.000000</td>\n",
       "      <td>6.500000</td>\n",
       "      <td>1.228350e+04</td>\n",
       "      <td>4.212500e+03</td>\n",
       "      <td>7.064950e+04</td>\n",
       "      <td>2.700450e+04</td>\n",
       "    </tr>\n",
       "    <tr>\n",
       "      <th>75%</th>\n",
       "      <td>2021.000000</td>\n",
       "      <td>9.250000</td>\n",
       "      <td>3.816422e+05</td>\n",
       "      <td>1.730452e+05</td>\n",
       "      <td>1.659590e+05</td>\n",
       "      <td>7.185350e+04</td>\n",
       "    </tr>\n",
       "    <tr>\n",
       "      <th>max</th>\n",
       "      <td>2021.000000</td>\n",
       "      <td>12.000000</td>\n",
       "      <td>1.127413e+07</td>\n",
       "      <td>4.079301e+06</td>\n",
       "      <td>3.022858e+06</td>\n",
       "      <td>1.251258e+06</td>\n",
       "    </tr>\n",
       "  </tbody>\n",
       "</table>\n",
       "</div>"
      ],
      "text/plain": [
       "              Year        Month  How_many_Landed_on_our_Page?  \\\n",
       "count  2160.000000  2160.000000                  2.160000e+03   \n",
       "mean   2020.000000     6.500000                  3.922474e+05   \n",
       "std       0.816686     3.452852                  9.555773e+05   \n",
       "min    2019.000000     1.000000                  0.000000e+00   \n",
       "25%    2019.000000     3.750000                  0.000000e+00   \n",
       "50%    2020.000000     6.500000                  1.228350e+04   \n",
       "75%    2021.000000     9.250000                  3.816422e+05   \n",
       "max    2021.000000    12.000000                  1.127413e+07   \n",
       "\n",
       "       How_many_Landed_on_the_our_Page_and_clicked_on_a_button?  \\\n",
       "count                                       2.160000e+03          \n",
       "mean                                        1.792281e+05          \n",
       "std                                         3.951562e+05          \n",
       "min                                         0.000000e+00          \n",
       "25%                                         0.000000e+00          \n",
       "50%                                         4.212500e+03          \n",
       "75%                                         1.730452e+05          \n",
       "max                                         4.079301e+06          \n",
       "\n",
       "       How_many_Landed_on_the_our_Page_and_clicked_on_a_button_and_started_filling_the_Form?  \\\n",
       "count                                       2.160000e+03                                       \n",
       "mean                                        1.510725e+05                                       \n",
       "std                                         2.353538e+05                                       \n",
       "min                                         3.761000e+03                                       \n",
       "25%                                         3.360800e+04                                       \n",
       "50%                                         7.064950e+04                                       \n",
       "75%                                         1.659590e+05                                       \n",
       "max                                         3.022858e+06                                       \n",
       "\n",
       "       How_many_Landed_on_the_our_Page_and_clicked_on_a_button_and_started_filling_the_Form_and_Completed_and_submited_the_form?  \n",
       "count                                       2.160000e+03                                                                          \n",
       "mean                                        5.922129e+04                                                                          \n",
       "std                                         8.646564e+04                                                                          \n",
       "min                                         7.660000e+02                                                                          \n",
       "25%                                         1.157725e+04                                                                          \n",
       "50%                                         2.700450e+04                                                                          \n",
       "75%                                         7.185350e+04                                                                          \n",
       "max                                         1.251258e+06                                                                          "
      ]
     },
     "execution_count": 7,
     "metadata": {},
     "output_type": "execute_result"
    }
   ],
   "source": [
    "summary_statstics"
   ]
  },
  {
   "cell_type": "code",
   "execution_count": 8,
   "id": "08a34460-d746-49d1-b98d-fe156ae7aad2",
   "metadata": {},
   "outputs": [
    {
     "data": {
      "text/plain": [
       "[['MobileWeb_or_Web',\n",
       "  array(['Desktop_Website', 'Mobile_website'], dtype=object)],\n",
       " ['Type_of_Customers?',\n",
       "  array(['Existing_Customer', 'New_Customer'], dtype=object)],\n",
       " ['Where_Are_They_comming_from?',\n",
       "  array(['Google', 'Direct_traffic', 'Unidentified_Sources'], dtype=object)],\n",
       " ['Which_Place_in_India?',\n",
       "  array(['Bangalore', 'Chennai', 'Dehradun', 'Indore', 'Pune'], dtype=object)]]"
      ]
     },
     "execution_count": 8,
     "metadata": {},
     "output_type": "execute_result"
    }
   ],
   "source": [
    "unique_values"
   ]
  },
  {
   "cell_type": "markdown",
   "id": "14eb671f-c098-49b5-a77e-3e257f2a4b4b",
   "metadata": {},
   "source": [
    "## Part 3: Prescriptive statistics"
   ]
  },
  {
   "cell_type": "markdown",
   "id": "200a84e2-f381-4db9-9525-96b57543db8a",
   "metadata": {},
   "source": [
    "### 1. “Which_Place_in_India?” has the highest “How_many_Landed_on_the_our_Page?”"
   ]
  },
  {
   "cell_type": "code",
   "execution_count": 9,
   "id": "ca5a877f-305a-49fd-b955-13e0a400eed5",
   "metadata": {},
   "outputs": [
    {
     "data": {
      "text/html": [
       "<div>\n",
       "<style scoped>\n",
       "    .dataframe tbody tr th:only-of-type {\n",
       "        vertical-align: middle;\n",
       "    }\n",
       "\n",
       "    .dataframe tbody tr th {\n",
       "        vertical-align: top;\n",
       "    }\n",
       "\n",
       "    .dataframe thead th {\n",
       "        text-align: right;\n",
       "    }\n",
       "</style>\n",
       "<table border=\"1\" class=\"dataframe\">\n",
       "  <thead>\n",
       "    <tr style=\"text-align: right;\">\n",
       "      <th></th>\n",
       "      <th>Year</th>\n",
       "      <th>Month</th>\n",
       "      <th>MobileWeb_or_Web</th>\n",
       "      <th>Type_of_Customers?</th>\n",
       "      <th>Where_Are_They_comming_from?</th>\n",
       "      <th>Which_Place_in_India?</th>\n",
       "      <th>How_many_Landed_on_our_Page?</th>\n",
       "      <th>How_many_Landed_on_the_our_Page_and_clicked_on_a_button?</th>\n",
       "      <th>How_many_Landed_on_the_our_Page_and_clicked_on_a_button_and_started_filling_the_Form?</th>\n",
       "      <th>How_many_Landed_on_the_our_Page_and_clicked_on_a_button_and_started_filling_the_Form_and_Completed_and_submited_the_form?</th>\n",
       "    </tr>\n",
       "  </thead>\n",
       "  <tbody>\n",
       "    <tr>\n",
       "      <th>984</th>\n",
       "      <td>2020</td>\n",
       "      <td>5</td>\n",
       "      <td>Desktop_Website</td>\n",
       "      <td>New_Customer</td>\n",
       "      <td>Direct_traffic</td>\n",
       "      <td>Pune</td>\n",
       "      <td>11274131.0</td>\n",
       "      <td>2544078.0</td>\n",
       "      <td>658397</td>\n",
       "      <td>389191</td>\n",
       "    </tr>\n",
       "  </tbody>\n",
       "</table>\n",
       "</div>"
      ],
      "text/plain": [
       "     Year  Month MobileWeb_or_Web Type_of_Customers?  \\\n",
       "984  2020      5  Desktop_Website       New_Customer   \n",
       "\n",
       "    Where_Are_They_comming_from? Which_Place_in_India?  \\\n",
       "984               Direct_traffic                  Pune   \n",
       "\n",
       "     How_many_Landed_on_our_Page?  \\\n",
       "984                    11274131.0   \n",
       "\n",
       "     How_many_Landed_on_the_our_Page_and_clicked_on_a_button?  \\\n",
       "984                                          2544078.0          \n",
       "\n",
       "     How_many_Landed_on_the_our_Page_and_clicked_on_a_button_and_started_filling_the_Form?  \\\n",
       "984                                             658397                                       \n",
       "\n",
       "     How_many_Landed_on_the_our_Page_and_clicked_on_a_button_and_started_filling_the_Form_and_Completed_and_submited_the_form?  \n",
       "984                                             389191                                                                          "
      ]
     },
     "execution_count": 9,
     "metadata": {},
     "output_type": "execute_result"
    }
   ],
   "source": [
    "cond_col = cleaned_data[\"How_many_Landed_on_our_Page?\"]\n",
    "\n",
    "cond_df = cleaned_data.loc[cond_col == cond_col.max()]\n",
    "\n",
    "cond_df"
   ]
  },
  {
   "cell_type": "code",
   "execution_count": 10,
   "id": "813c05dd",
   "metadata": {},
   "outputs": [
    {
     "data": {
      "text/plain": [
       "984    Pune\n",
       "Name: Which_Place_in_India?, dtype: object"
      ]
     },
     "execution_count": 10,
     "metadata": {},
     "output_type": "execute_result"
    }
   ],
   "source": [
    "place = cond_df[\"Which_Place_in_India?\"]\n",
    "place"
   ]
  },
  {
   "cell_type": "code",
   "execution_count": 11,
   "id": "4c28bf6a",
   "metadata": {},
   "outputs": [
    {
     "name": "stdout",
     "output_type": "stream",
     "text": [
      "The place in India which has the highest number of page visits is Pune\n"
     ]
    }
   ],
   "source": [
    "print(f'The place in India which has the highest number of page visits is {place[984]}')"
   ]
  },
  {
   "cell_type": "markdown",
   "id": "033c8fe8-3f83-47dc-9f7b-d18699f15c69",
   "metadata": {},
   "source": [
    "### 2. “How_many_Landed_on_the_our_Page_and_clicked_on_a_button_and_started_filling_the_Form_and_Completed_and_submited_the_form?” divided by “How_many_Landed_on _our_Page?” is highest for “Which_Place_in_India?”\n",
    "\n",
    "Before exploring this values, we know that the “How_many_Landed_on _our_Page?” column has 0 values which lead to infinty when finding the percentage of “How_many_Landed_on_the_our_Page_and_clicked_on_a_button_and_started_filling_the_Form_and_Completed_and_submited_the_form?” from “How_many_Landed_on _our_Page?”. Thus, we need to fill 0s with more reasonable value, we can use the mean, the median, mode, KNN or MICE methods to handle these missing values  \n",
    "\n",
    "#### First we will explore filling data with the mean "
   ]
  },
  {
   "cell_type": "code",
   "execution_count": 12,
   "id": "a2560955",
   "metadata": {},
   "outputs": [],
   "source": [
    "# renaming columns to make it easier while using\n",
    "cleaned_data.columns = ['A', 'B', 'C', 'D', 'E', 'F', 'G', 'H', 'I', 'J'] "
   ]
  },
  {
   "cell_type": "code",
   "execution_count": 13,
   "id": "9a7728b8",
   "metadata": {},
   "outputs": [
    {
     "name": "stdout",
     "output_type": "stream",
     "text": [
      "Dehradun has the highest percentage of submitted forms which is 61.8403568548801\n"
     ]
    }
   ],
   "source": [
    "mean_df = cleaned_data.copy(deep=True)\n",
    "\n",
    "mean = mean_df['G'].mean()\n",
    "\n",
    "# change 0s with the mean\n",
    "mean_df['G'].replace(0, mean, inplace=True)\n",
    "\n",
    "# get the percentage\n",
    "mean_df['Percentage_submit_landed'] = mean_df['J'] / mean_df['G']\n",
    "# mean_df.head()\n",
    "\n",
    "# # get the rows that have the max percentage\n",
    "high_percent_rows_mean = mean_df.loc[mean_df['Percentage_submit_landed'] == mean_df['Percentage_submit_landed'].max()] \n",
    "high_percent_mean = high_percent_rows_mean['Percentage_submit_landed'][high_percent_rows_mean.index[0]] * 100\n",
    "place_mean = high_percent_rows_mean[\"F\"][high_percent_rows_mean.index[0]]\n",
    "\n",
    "print(f'{place_mean} has the highest percentage of submitted forms which is {high_percent_mean}')"
   ]
  },
  {
   "cell_type": "markdown",
   "id": "7c93f7ef",
   "metadata": {},
   "source": [
    "#### Second, We will explore filling data with the median"
   ]
  },
  {
   "cell_type": "code",
   "execution_count": 14,
   "id": "1659d228-1dc7-46e2-b6e9-45a5343be476",
   "metadata": {},
   "outputs": [
    {
     "name": "stdout",
     "output_type": "stream",
     "text": [
      "This is not reasonable to have submitted forms greater than the number od visits of the page\n"
     ]
    }
   ],
   "source": [
    "median_df = cleaned_data.copy(deep=True)\n",
    "\n",
    "median = median_df['G'].median()\n",
    "\n",
    "if median < median_df['J'].max():\n",
    "    print(\"This is not reasonable to have submitted forms greater than the number od visits of the page\")\n",
    "    \n",
    "else:\n",
    "    # change 0s with the median value\n",
    "    median_df['G'].replace(0, median, inplace=True)\n",
    "\n",
    "    # get the percentage\n",
    "    median_df['Percentage_submit_landed'] = median_df['J'] / median_df['G']\n",
    "#     median_df.head()\n",
    "\n",
    "    # get the rows that have the max percentage\n",
    "    high_percent_rows_median = median_df.loc[median_df['Percentage_submit_landed'] == median_df['Percentage_submit_landed'].max()]\n",
    "#     high_percent_rows_median\n",
    "    high_percent_median = high_percent_rows_median['Percentage_submit_landed'][high_percent_rows_median.index[0]] * 100\n",
    "    place_median = high_percent_rows_median[\"F\"][high_percent_rows_median.index[0]]\n",
    "\n",
    "    print(f'{place_median} has the highest percentage of submitted forms which is {high_percent_median}')"
   ]
  },
  {
   "cell_type": "markdown",
   "id": "426ef441",
   "metadata": {},
   "source": [
    "By exploring filling the null data in “How_many_Landed_on _our_Page?” by the median value, we found that there are some cases who submitted the form but doesn't land on the page (number of submissions > number of visits), which is not reasonable in this case. Thus, we cannot handle this with the median value."
   ]
  },
  {
   "cell_type": "markdown",
   "id": "8ae3568c",
   "metadata": {},
   "source": [
    "#### Third, We will explore filling data with the mode"
   ]
  },
  {
   "cell_type": "code",
   "execution_count": 15,
   "id": "e26e96df-62be-47c0-a213-481a4aa77c7f",
   "metadata": {},
   "outputs": [
    {
     "name": "stdout",
     "output_type": "stream",
     "text": [
      "The mode for this feature is 0, It's not useful for handling missing values\n"
     ]
    }
   ],
   "source": [
    "mode_df = cleaned_data.copy(deep=True)\n",
    "\n",
    "mode = mode_df['G'].mode()\n",
    "\n",
    "if mode[0] == 0: \n",
    "    print(\"The mode for this feature is 0, It's not useful for handling missing values\")\n",
    "    \n",
    "else:\n",
    "    # change 0s with the median value\n",
    "    mode_df['G'].replace(0, mode, inplace=True)\n",
    "\n",
    "    # get the percentage\n",
    "    mode_df['Percentage_submit_landed'] = mode_df['J'] / mode_df['G']\n",
    "#     mode_df.head()\n",
    "\n",
    "    # get the rows that have the max percentage\n",
    "    high_percent_rows_mode = mode_df.loc[mode_df['Percentage_submit_landed'] == mode_df['Percentage_submit_landed'].max()]\n",
    "#     high_percent_rows_mode\n",
    "    high_percent_mode = high_percent_rows_mode['Percentage_submit_landed'][high_percent_rows_mode.index[0]] * 100\n",
    "    place_mode = high_percent_rows_mode[\"F\"][high_percent_rows_mode.index[0]]\n",
    "\n",
    "    print(f'{place_mode} has the highest percentage of submitted forms which is {high_percent_mode}')"
   ]
  },
  {
   "cell_type": "markdown",
   "id": "f77bd55c",
   "metadata": {},
   "source": [
    "#### Fourth, We will explore filling data using KNN imputer "
   ]
  },
  {
   "cell_type": "code",
   "execution_count": 16,
   "id": "56dbcd46",
   "metadata": {},
   "outputs": [],
   "source": [
    "from sklearn.impute import KNNImputer\n",
    "import numpy as np"
   ]
  },
  {
   "cell_type": "code",
   "execution_count": 17,
   "id": "39a4216b",
   "metadata": {},
   "outputs": [
    {
     "name": "stdout",
     "output_type": "stream",
     "text": [
      "Dehradun has the highest percentage of submitted forms which is 61.8403568548801\n"
     ]
    }
   ],
   "source": [
    "knn_df = cleaned_data.copy(deep=True)\n",
    "\n",
    "imputer = KNNImputer(missing_values=0, n_neighbors=5)    # initiate the imputer \n",
    "g = np.array(knn_df['G']).reshape(-1, 1)\n",
    "df_filled = imputer.fit_transform(g)    # Fill the missing values in G \n",
    "\n",
    "knn_df['G'] = df_filled\n",
    "\n",
    "# get the percentage\n",
    "knn_df['Percentage_submit_landed'] = knn_df['J'] / knn_df['G']\n",
    "\n",
    "# # get the rows that have the max percentage\n",
    "high_percent_rows_knn = knn_df.loc[knn_df['Percentage_submit_landed'] == knn_df['Percentage_submit_landed'].max()] \n",
    "high_percent_knn = high_percent_rows_knn['Percentage_submit_landed'][high_percent_rows_knn.index[0]] * 100\n",
    "place_knn = high_percent_rows_knn[\"F\"][high_percent_rows_knn.index[0]]\n",
    "\n",
    "print(f'{place_knn} has the highest percentage of submitted forms which is {high_percent_knn}')"
   ]
  },
  {
   "cell_type": "markdown",
   "id": "7001242c",
   "metadata": {},
   "source": [
    "We notice that the KNN method gives the same result as when using the mean "
   ]
  },
  {
   "cell_type": "markdown",
   "id": "5b598d0d",
   "metadata": {},
   "source": [
    "#### Finally, We will explore filling data using MICE algorithm "
   ]
  },
  {
   "cell_type": "markdown",
   "id": "53ff6bbb",
   "metadata": {},
   "source": [
    "## Part 4: Simple Machine learning questions"
   ]
  },
  {
   "cell_type": "code",
   "execution_count": 89,
   "id": "4b5d2114",
   "metadata": {},
   "outputs": [],
   "source": [
    "from sklearn.linear_model import LinearRegression\n",
    "from sklearn.metrics import mean_absolute_percentage_error"
   ]
  },
  {
   "cell_type": "code",
   "execution_count": 90,
   "id": "00225c97",
   "metadata": {},
   "outputs": [],
   "source": [
    "def create_date_frame(df):\n",
    "    date_frame = df.copy(deep=True)\n",
    "    \n",
    "    date_frame['Date'] = pd.to_datetime(date_frame.A.astype(str) + '/' + date_frame.B.astype(str) + '/01')\n",
    "    \n",
    "    date_frame['Time'] = np.arange(len(date_frame.index)) # create time dummies for training \n",
    "    \n",
    "    return date_frame"
   ]
  },
  {
   "cell_type": "code",
   "execution_count": 92,
   "id": "3ca1ab71",
   "metadata": {},
   "outputs": [
    {
     "data": {
      "text/html": [
       "<div>\n",
       "<style scoped>\n",
       "    .dataframe tbody tr th:only-of-type {\n",
       "        vertical-align: middle;\n",
       "    }\n",
       "\n",
       "    .dataframe tbody tr th {\n",
       "        vertical-align: top;\n",
       "    }\n",
       "\n",
       "    .dataframe thead th {\n",
       "        text-align: right;\n",
       "    }\n",
       "</style>\n",
       "<table border=\"1\" class=\"dataframe\">\n",
       "  <thead>\n",
       "    <tr style=\"text-align: right;\">\n",
       "      <th></th>\n",
       "      <th>A</th>\n",
       "      <th>B</th>\n",
       "      <th>C</th>\n",
       "      <th>D</th>\n",
       "      <th>E</th>\n",
       "      <th>F</th>\n",
       "      <th>G</th>\n",
       "      <th>H</th>\n",
       "      <th>I</th>\n",
       "      <th>J</th>\n",
       "      <th>Date</th>\n",
       "      <th>Time</th>\n",
       "    </tr>\n",
       "  </thead>\n",
       "  <tbody>\n",
       "    <tr>\n",
       "      <th>0</th>\n",
       "      <td>2019</td>\n",
       "      <td>1</td>\n",
       "      <td>Desktop_Website</td>\n",
       "      <td>Existing_Customer</td>\n",
       "      <td>Google</td>\n",
       "      <td>Bangalore</td>\n",
       "      <td>0.0</td>\n",
       "      <td>0.0</td>\n",
       "      <td>56892</td>\n",
       "      <td>17178</td>\n",
       "      <td>2019-01-01</td>\n",
       "      <td>0</td>\n",
       "    </tr>\n",
       "    <tr>\n",
       "      <th>1</th>\n",
       "      <td>2019</td>\n",
       "      <td>1</td>\n",
       "      <td>Desktop_Website</td>\n",
       "      <td>Existing_Customer</td>\n",
       "      <td>Google</td>\n",
       "      <td>Chennai</td>\n",
       "      <td>0.0</td>\n",
       "      <td>0.0</td>\n",
       "      <td>41460</td>\n",
       "      <td>11916</td>\n",
       "      <td>2019-01-01</td>\n",
       "      <td>1</td>\n",
       "    </tr>\n",
       "    <tr>\n",
       "      <th>2</th>\n",
       "      <td>2019</td>\n",
       "      <td>1</td>\n",
       "      <td>Desktop_Website</td>\n",
       "      <td>Existing_Customer</td>\n",
       "      <td>Google</td>\n",
       "      <td>Dehradun</td>\n",
       "      <td>0.0</td>\n",
       "      <td>0.0</td>\n",
       "      <td>55561</td>\n",
       "      <td>19461</td>\n",
       "      <td>2019-01-01</td>\n",
       "      <td>2</td>\n",
       "    </tr>\n",
       "    <tr>\n",
       "      <th>3</th>\n",
       "      <td>2019</td>\n",
       "      <td>1</td>\n",
       "      <td>Desktop_Website</td>\n",
       "      <td>Existing_Customer</td>\n",
       "      <td>Google</td>\n",
       "      <td>Indore</td>\n",
       "      <td>0.0</td>\n",
       "      <td>0.0</td>\n",
       "      <td>320923</td>\n",
       "      <td>110667</td>\n",
       "      <td>2019-01-01</td>\n",
       "      <td>3</td>\n",
       "    </tr>\n",
       "    <tr>\n",
       "      <th>4</th>\n",
       "      <td>2019</td>\n",
       "      <td>1</td>\n",
       "      <td>Desktop_Website</td>\n",
       "      <td>Existing_Customer</td>\n",
       "      <td>Google</td>\n",
       "      <td>Pune</td>\n",
       "      <td>0.0</td>\n",
       "      <td>0.0</td>\n",
       "      <td>220937</td>\n",
       "      <td>46033</td>\n",
       "      <td>2019-01-01</td>\n",
       "      <td>4</td>\n",
       "    </tr>\n",
       "  </tbody>\n",
       "</table>\n",
       "</div>"
      ],
      "text/plain": [
       "      A  B                C                  D       E          F    G    H  \\\n",
       "0  2019  1  Desktop_Website  Existing_Customer  Google  Bangalore  0.0  0.0   \n",
       "1  2019  1  Desktop_Website  Existing_Customer  Google    Chennai  0.0  0.0   \n",
       "2  2019  1  Desktop_Website  Existing_Customer  Google   Dehradun  0.0  0.0   \n",
       "3  2019  1  Desktop_Website  Existing_Customer  Google     Indore  0.0  0.0   \n",
       "4  2019  1  Desktop_Website  Existing_Customer  Google       Pune  0.0  0.0   \n",
       "\n",
       "        I       J       Date  Time  \n",
       "0   56892   17178 2019-01-01     0  \n",
       "1   41460   11916 2019-01-01     1  \n",
       "2   55561   19461 2019-01-01     2  \n",
       "3  320923  110667 2019-01-01     3  \n",
       "4  220937   46033 2019-01-01     4  "
      ]
     },
     "execution_count": 92,
     "metadata": {},
     "output_type": "execute_result"
    }
   ],
   "source": [
    "df = create_date_frame(cleaned_data)\n",
    "\n",
    "X = df.loc[:, 'Time'].to_numpy()\n",
    "y = df.loc[:, 'J'].to_numpy()\n",
    "\n",
    "df.head()"
   ]
  },
  {
   "cell_type": "code",
   "execution_count": 93,
   "id": "d4d5e088",
   "metadata": {},
   "outputs": [
    {
     "data": {
      "image/png": "[encoded data removed]",
      "text/plain": [
       "<Figure size 432x288 with 1 Axes>"
      ]
     },
     "metadata": {
      "needs_background": "light"
     },
     "output_type": "display_data"
    }
   ],
   "source": [
    "##### import matplotlib.pyplot as plt\n",
    "\n",
    "plt.plot(X, y)\n",
    "\n",
    "# Set the title\n",
    "plt.title(\"years vs submitted forms\")\n",
    "# Set the y-axis label\n",
    "plt.ylabel('submitted forms')\n",
    "# Set the x-axis label\n",
    "plt.xlabel('Time')\n",
    "plt.show()"
   ]
  },
  {
   "cell_type": "code",
   "execution_count": 95,
   "id": "b4567059",
   "metadata": {},
   "outputs": [
    {
     "name": "stdout",
     "output_type": "stream",
     "text": [
      "[58006.59544107] 4.397813581597118\n"
     ]
    }
   ],
   "source": [
    "\n",
    "def pred_future(X_train, y_train, X_test):\n",
    "    \"\"\"\n",
    "    Predicts “How_many_Landed_on_the_our_Page_and_clicked_on_a_button_and_started_filling_the_Form_and_Completed_and_submited_the_form?” \n",
    "    for the complete year of 2022\n",
    "    and generates the overall MAPE of your prediction for the year 2021.\n",
    "    \"\"\"\n",
    "    linear_model = LinearRegression()\n",
    "    linear_model.fit(X_train.reshape(-1,1), y_train)\n",
    "    \n",
    "    y_pred = linear_model.predict(X_test.reshape(-1,1))\n",
    "    \n",
    "    mape = mean_absolute_percentage_error(y_train, y_pred)\n",
    "    \n",
    "    return y_pred, mape\n",
    "\n",
    "x_test = np.arange(len(df.index))\n",
    "\n",
    "y_predicted, MAPE = pred_future(X, y, x_test)\n",
    "\n",
    "print(pred, MAPE)\n",
    "    \n",
    "    "
   ]
  },
  {
   "cell_type": "markdown",
   "id": "0a55a462",
   "metadata": {},
   "source": [
    "## Part 5: Visualization"
   ]
  },
  {
   "cell_type": "markdown",
   "id": "5c514aa4",
   "metadata": {},
   "source": [
    "A line graph for “How_many_Landed_on_the_our_Page_and_clicked_on_a_button?” for the different “Which_Place_in_India?” over the months of the year 2019 & 2020. \n",
    "\n",
    "(Hint : On x axis there should be months for 2019 & 2020 and Y axis should be the “How_many_Landed_on_the_our_Page_and_clicked_on_a_button?” and there should different lines depicting different regions of “Which_Place_in_India?”)\n"
   ]
  },
  {
   "cell_type": "code",
   "execution_count": 24,
   "id": "ec5cfae4",
   "metadata": {},
   "outputs": [],
   "source": [
    "import matplotlib.pyplot as plt"
   ]
  },
  {
   "cell_type": "code",
   "execution_count": 69,
   "id": "738b41ed",
   "metadata": {},
   "outputs": [
    {
     "data": {
      "text/html": [
       "<div>\n",
       "<style scoped>\n",
       "    .dataframe tbody tr th:only-of-type {\n",
       "        vertical-align: middle;\n",
       "    }\n",
       "\n",
       "    .dataframe tbody tr th {\n",
       "        vertical-align: top;\n",
       "    }\n",
       "\n",
       "    .dataframe thead th {\n",
       "        text-align: right;\n",
       "    }\n",
       "</style>\n",
       "<table border=\"1\" class=\"dataframe\">\n",
       "  <thead>\n",
       "    <tr style=\"text-align: right;\">\n",
       "      <th></th>\n",
       "      <th>A</th>\n",
       "      <th>B</th>\n",
       "      <th>C</th>\n",
       "      <th>D</th>\n",
       "      <th>E</th>\n",
       "      <th>F</th>\n",
       "      <th>G</th>\n",
       "      <th>H</th>\n",
       "      <th>I</th>\n",
       "      <th>J</th>\n",
       "    </tr>\n",
       "  </thead>\n",
       "  <tbody>\n",
       "    <tr>\n",
       "      <th>0</th>\n",
       "      <td>2019</td>\n",
       "      <td>1</td>\n",
       "      <td>Desktop_Website</td>\n",
       "      <td>Existing_Customer</td>\n",
       "      <td>Google</td>\n",
       "      <td>Bangalore</td>\n",
       "      <td>0.0</td>\n",
       "      <td>0.0</td>\n",
       "      <td>56892</td>\n",
       "      <td>17178</td>\n",
       "    </tr>\n",
       "    <tr>\n",
       "      <th>1</th>\n",
       "      <td>2019</td>\n",
       "      <td>1</td>\n",
       "      <td>Desktop_Website</td>\n",
       "      <td>Existing_Customer</td>\n",
       "      <td>Google</td>\n",
       "      <td>Chennai</td>\n",
       "      <td>0.0</td>\n",
       "      <td>0.0</td>\n",
       "      <td>41460</td>\n",
       "      <td>11916</td>\n",
       "    </tr>\n",
       "    <tr>\n",
       "      <th>2</th>\n",
       "      <td>2019</td>\n",
       "      <td>1</td>\n",
       "      <td>Desktop_Website</td>\n",
       "      <td>Existing_Customer</td>\n",
       "      <td>Google</td>\n",
       "      <td>Dehradun</td>\n",
       "      <td>0.0</td>\n",
       "      <td>0.0</td>\n",
       "      <td>55561</td>\n",
       "      <td>19461</td>\n",
       "    </tr>\n",
       "    <tr>\n",
       "      <th>3</th>\n",
       "      <td>2019</td>\n",
       "      <td>1</td>\n",
       "      <td>Desktop_Website</td>\n",
       "      <td>Existing_Customer</td>\n",
       "      <td>Google</td>\n",
       "      <td>Indore</td>\n",
       "      <td>0.0</td>\n",
       "      <td>0.0</td>\n",
       "      <td>320923</td>\n",
       "      <td>110667</td>\n",
       "    </tr>\n",
       "    <tr>\n",
       "      <th>4</th>\n",
       "      <td>2019</td>\n",
       "      <td>1</td>\n",
       "      <td>Desktop_Website</td>\n",
       "      <td>Existing_Customer</td>\n",
       "      <td>Google</td>\n",
       "      <td>Pune</td>\n",
       "      <td>0.0</td>\n",
       "      <td>0.0</td>\n",
       "      <td>220937</td>\n",
       "      <td>46033</td>\n",
       "    </tr>\n",
       "  </tbody>\n",
       "</table>\n",
       "</div>"
      ],
      "text/plain": [
       "      A  B                C                  D       E          F    G    H  \\\n",
       "0  2019  1  Desktop_Website  Existing_Customer  Google  Bangalore  0.0  0.0   \n",
       "1  2019  1  Desktop_Website  Existing_Customer  Google    Chennai  0.0  0.0   \n",
       "2  2019  1  Desktop_Website  Existing_Customer  Google   Dehradun  0.0  0.0   \n",
       "3  2019  1  Desktop_Website  Existing_Customer  Google     Indore  0.0  0.0   \n",
       "4  2019  1  Desktop_Website  Existing_Customer  Google       Pune  0.0  0.0   \n",
       "\n",
       "        I       J  \n",
       "0   56892   17178  \n",
       "1   41460   11916  \n",
       "2   55561   19461  \n",
       "3  320923  110667  \n",
       "4  220937   46033  "
      ]
     },
     "execution_count": 69,
     "metadata": {},
     "output_type": "execute_result"
    }
   ],
   "source": [
    "vis_df = cleaned_data.copy(deep=True)\n",
    "\n",
    "months_2019_2020 = vis_df[(vis_df['A'] == 2019) | (vis_df['A'] == 2020)]  # get 2019 and 2020 from data \n",
    "\n",
    "date_df = months_2019_2020.copy(deep=True)\n",
    "months_2019_2020.head()"
   ]
  },
  {
   "cell_type": "markdown",
   "id": "d800370b",
   "metadata": {},
   "source": [
    "From the unique values, we know that we have 5 different places in indea:'Bangalore', 'Chennai', 'Dehradun', 'Indore', 'Pune', do we will make a dataframe for each for ease use "
   ]
  },
  {
   "cell_type": "code",
   "execution_count": 62,
   "id": "924e5b6b",
   "metadata": {},
   "outputs": [],
   "source": [
    "def create_frame_to_vis(df):\n",
    "    vis_frame = df.copy(deep=True)\n",
    "    vis_frame['Date'] = pd.to_datetime(vis_frame.A.astype(str) + '/' + vis_frame.B.astype(str) + '/01')\n",
    "    \n",
    "    return vis_frame"
   ]
  },
  {
   "cell_type": "code",
   "execution_count": 65,
   "id": "cc686edf",
   "metadata": {},
   "outputs": [],
   "source": [
    "Bangalore = date_df[months_2019_2020['F'] == 'Bangalore']\n",
    "Bangalore = create_frame_to_vis(Bangalore)\n",
    "\n",
    "Chennai = months_2019_2020[months_2019_2020['F'] == 'Chennai']\n",
    "Chennai = create_frame_to_vis(Chennai)\n",
    "\n",
    "\n",
    "Dehradun = months_2019_2020[months_2019_2020['F'] == 'Dehradun']\n",
    "Dehradun = create_frame_to_vis(Dehradun)\n",
    "\n",
    "Indore = months_2019_2020[months_2019_2020['F'] == 'Indore']\n",
    "Indore = create_frame_to_vis(Indore)\n",
    "\n",
    "Pune = months_2019_2020[months_2019_2020['F'] == 'Pune']\n",
    "Pune = create_frame_to_vis(Pune)\n"
   ]
  },
  {
   "cell_type": "code",
   "execution_count": 68,
   "id": "f21c574d",
   "metadata": {},
   "outputs": [
    {
     "data": {
      "image/png": "[encoded data removed]",
      "text/plain": [
       "<Figure size 864x576 with 1 Axes>"
      ]
     },
     "metadata": {
      "needs_background": "light"
     },
     "output_type": "display_data"
    }
   ],
   "source": [
    "fig = plt.figure(figsize=(12, 8))\n",
    "\n",
    "plt.plot(Bangalore['Date'], Bangalore['H'], color='red', label='Bangalore')\n",
    "plt.plot(Chennai['Date'], Chennai['H'], color='blue', label='Chennai')\n",
    "plt.plot(Dehradun['Date'], Dehradun['H'], color='green', label='Dehradun')\n",
    "plt.plot(Indore['Date'], Indore['H'], color='black', label='Indore')\n",
    "plt.plot(Pune['Date'], Pune['H'], color='magenta', label='Pune')\n",
    "\n",
    "\n",
    "plt.title('Clicked Buttons on months for 2019 & 2020')\n",
    "plt.xlabel('Month')\n",
    "plt.ylabel('Clicked Buttons')\n",
    "\n",
    "plt.legend()\n",
    "\n",
    "plt.show()"
   ]
  },
  {
   "cell_type": "markdown",
   "id": "902647cb",
   "metadata": {},
   "source": [
    "A line graph of the actual and projected number of “How_many_Landed_on_the_our_Page_and_clicked_on_a_button_and_started_filling_the_Form_and_Completed_and_submited_the_form?” for the months of the year 2021(Actuals values) & 2022 (Predicted values). (Hint : It should be a line graph)"
   ]
  },
  {
   "cell_type": "markdown",
   "id": "0b539657",
   "metadata": {},
   "source": [
    "## Part 6: About the previous projects"
   ]
  },
  {
   "cell_type": "markdown",
   "id": "6e9c3da2",
   "metadata": {},
   "source": [
    "1. Investigating Netflix Movies and Guest Stars in The Office Project\n",
    "\n",
    "This project is just for data analysis. In this project, We invistigated Netflix Movies to get insights about the duration of the movies. We appplied EDA on two categories:\n",
    "    1. On friend's data: given the average duartions movie during the period from 2011 to 2020.\n",
    "    2. On a dataset for Netflix that contains large samples of the movies, tv shows, ...etc. during the period from 1925 to 2021, and of different genres.\n",
    "We also gained experience in Exploratory Data Analysis, allowing us to manipulate raw data, \"Netflix data\", and draw conclusions based on the visualizations of the data we created. \n",
    "\n",
    "GitHub: https://github.com/raniaelhagin/Data-Analysis-Projects-and-Excercises-/tree/main/Investigating_Netflix_Movies_and_Guest_Stars_in_The_Office\n",
    "\n",
    "2. Dr.Semmelweis and the Discovery of Handwashing\n",
    "\n",
    "Also this project was in data analysis. This project is about reanalyzing the data behind one of the most important discoveries of modern medicine, handwashing, and how it was a major cause of childbed fever and by enforcing handwashing, hundreds of lives were saved.\n",
    "\n",
    "This project have many topics such as Case Studying, Data Manipulation, Data Visualization, Probability and Statistics.\n",
    "\n",
    "GitHub: https://github.com/raniaelhagin/Data-Analysis-Projects-and-Excercises-/tree/main/Dr._Semmelweis_and_the_Discovery_of_Handwashing\n",
    "\n",
    "3. Prediction using supervised ML\n",
    "\n",
    "This project was about using linear regression to predict student scores based on their study hours. I used linear regression using a from scratch approach and in another solution I used Scikit-learn.\n",
    "I explored the data and get the relationship between the features. And this project was in The Sparks Foudation Internship, I also will do more projects with them as soon as poossible. \n",
    "\n",
    "GitHub: https://github.com/raniaelhagin/Data-Science-and-Business-analytics-Internship-TSF-GRIP/tree/main/Projects"
   ]
  },
  {
   "cell_type": "markdown",
   "id": "65828717",
   "metadata": {},
   "source": [
    "## Part 7: Time management"
   ]
  },
  {
   "cell_type": "markdown",
   "id": "408e284a",
   "metadata": {},
   "source": [
    "If I get selected in this full-time internship, I will try to manage my time as I have a job in company. \n",
    "Usually I work all the day but if I have a task I will give it more concentration in time, I mean I concentrate in the task all the time I have until I finish my work. \n",
    "I can spend over 10 hours working on a task. always taking notes and define the problem I work on save a lot of time and help me manage my thought. So, taking time at the first for taking notes, define our problem, and have an initial thought about how I will manage and prioritize tasks, and be aware of the deadlines to get the solutions save me a lot of time and organize my work. "
   ]
  }
 ],
 "metadata": {
  "kernelspec": {
   "display_name": "Python 3 (ipykernel)",
   "language": "python",
   "name": "python3"
  },
  "language_info": {
   "codemirror_mode": {
    "name": "ipython",
    "version": 3
   },
   "file_extension": ".py",
   "mimetype": "text/x-python",
   "name": "python",
   "nbconvert_exporter": "python",
   "pygments_lexer": "ipython3",
   "version": "3.9.12"
  }
 },
 "nbformat": 4,
 "nbformat_minor": 5
}
