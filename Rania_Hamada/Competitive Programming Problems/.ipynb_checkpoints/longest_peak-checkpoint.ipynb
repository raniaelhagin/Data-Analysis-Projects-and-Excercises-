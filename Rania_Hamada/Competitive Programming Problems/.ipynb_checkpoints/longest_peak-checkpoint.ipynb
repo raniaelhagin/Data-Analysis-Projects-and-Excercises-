{
 "cells": [
  {
   "cell_type": "markdown",
   "id": "2f7fd661",
   "metadata": {},
   "source": [
    "<center>\n",
    "    <H1>\n",
    "        Longest Peak\n",
    "    </H1>\n",
    "</center>\n",
    "\n",
    "<hr style=\"height:2px\">\n",
    "\n",
    "<center>\n",
    "    <H3>\n",
    "        Problem\n",
    "    </H3>\n",
    "</center>\n",
    "\n",
    "<BR>\n",
    "<p style=\"font-weight: bold; text-align: center\">\n",
    "Write a function that takes in an array of integers and returns <u>the length of the longest peak in the array</u>.\n",
    "</p>\n",
    "<BR>\n",
    "\n",
    "A peak is defined as adjacent integers in the array that are **strictly** increasing until they reach a tip (the highest value in the peak), at which point they become **strictly** decreasing. At least three integers are required to form a peak.\n",
    "\n",
    "For example, the integers `1, 4, 10, 2` form a peak, but the integers `4, 0, 10` don't and neither do the integers `1, 2, 2, 0`. Similarly, the integers `1, 2, 3` don't form a peak because they aren't strictly decreasing after the `3`.\n",
    "\n",
    "<hr style=\"height:2px\">\n",
    "\n",
    "<center>\n",
    "    <H3>\n",
    "        Sample Inputs & Outputs\n",
    "    </H3>\n",
    "</center>\n",
    "\n",
    "Sample input(s) and output(s) are given below. Note that the examples below are not exhaustive and that we will try your solution on other examples that are held back for verification later. Do try to account for as many cases as you can. Good Luck!\n",
    "\n",
    "#### Example\n",
    "```\n",
    "Input: array = [1, 2, 3, 3, 4, 0, 10, 6, 5, -1, -3, 2, 3]\n",
    "Output: 6\n",
    "Explanation: 6 is the length of the longest peak: [0, 10, 6, 5, -1, -3]\n",
    "```\n",
    "\n",
    "<hr style=\"height:2px\">"
   ]
  },
  {
   "cell_type": "markdown",
   "id": "e41fbd7b",
   "metadata": {},
   "source": [
    "Please fill in the function below, then try your solution on the examples given at the bottom of this notebook.\n",
    "\n",
    "**Do NOT import or use any external libraries. AVOID `import` statements in your solution (e.g. `import numpy as np`).\n",
    "Use only base Python functions and pre-loaded libraries.**\n",
    "\n",
    "*You are free to add your own helper functions to be called by the function below.*\n",
    "\n",
    "Examples of functions/methods that you may use:\n",
    "   - min()\n",
    "   - max()\n",
    "   - len()\n",
    "   - type()\n",
    "   - range()\n",
    "   - reversed()\n",
    "   - list.sort()\n",
    "   - list.append()\n",
    "   - list.extend()\n",
    "   - list.pop()\n",
    "   - list.remove()"
   ]
  },
  {
   "cell_type": "code",
   "execution_count": 1,
   "id": "aef1eca3",
   "metadata": {},
   "outputs": [],
   "source": [
    "def longestPeak(array):\n",
    "    \n",
    "    if (len(array) < 3):\n",
    "        return 0\n",
    "    \n",
    "    i = 1 \n",
    "    paths = [0]\n",
    "    path = 0\n",
    "    end = 0\n",
    "    \n",
    "    while(i > 0 and i < len(array)-2):\n",
    "        \n",
    "        if array[i] > array[i-1]:\n",
    "            \n",
    "            path = 0 \n",
    "            \n",
    "            start_increasing_index = i-1\n",
    "            while((array[i] > array[i-1]) and (i < len(array))):  # increaasing \n",
    "                if i+1 > len(array)-1:  # for last indices \n",
    "                    break\n",
    "                else:\n",
    "                    i += 1\n",
    "                \n",
    "            end_increasing_index = i \n",
    "            path += end_increasing_index - start_increasing_index\n",
    "            \n",
    "            start_decreasing_index = i \n",
    "            while((array[i] < array[i-1]) and (i < len(array))): # decresing \n",
    "                if i+1 > len(array)-1: # for last indeices \n",
    "                    if array[len(array)-1] < array[len(array)-2]:\n",
    "                        end = i + 1\n",
    "                    break\n",
    "                else:\n",
    "                    i += 1\n",
    "                \n",
    "            if end:  \n",
    "                end_decreasing_index = end\n",
    "            else:\n",
    "                end_decreasing_index = i\n",
    "                \n",
    "            if (end_decreasing_index - start_decreasing_index == 0):  # if there is no decresing \n",
    "                path = 0\n",
    "            else:\n",
    "                path += end_decreasing_index - start_decreasing_index\n",
    "                \n",
    "            paths.append(path)\n",
    "            \n",
    "        else: \n",
    "            path = 0\n",
    "            i += 1       \n",
    "        \n",
    "    return (max(paths))"
   ]
  },
  {
   "cell_type": "code",
   "execution_count": 2,
   "id": "c5651741",
   "metadata": {},
   "outputs": [
    {
     "data": {
      "text/plain": [
       "6"
      ]
     },
     "execution_count": 2,
     "metadata": {},
     "output_type": "execute_result"
    }
   ],
   "source": [
    "longestPeak([1, 2, 3, 3, 4, 0, 10, 6, 5, -1, -3, 2, 3])  # Expected: 6  ([0, 10, 6, 5, -1, -3])"
   ]
  },
  {
   "cell_type": "code",
   "execution_count": null,
   "id": "b3059eac",
   "metadata": {},
   "outputs": [],
   "source": []
  }
 ],
 "metadata": {
  "kernelspec": {
   "display_name": "Python 3 (ipykernel)",
   "language": "python",
   "name": "python3"
  },
  "language_info": {
   "codemirror_mode": {
    "name": "ipython",
    "version": 3
   },
   "file_extension": ".py",
   "mimetype": "text/x-python",
   "name": "python",
   "nbconvert_exporter": "python",
   "pygments_lexer": "ipython3",
   "version": "3.9.12"
  }
 },
 "nbformat": 4,
 "nbformat_minor": 5
}
